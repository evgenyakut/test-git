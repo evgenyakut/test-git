{
 "cells": [
  {
   "cell_type": "code",
   "execution_count": 65,
   "metadata": {},
   "outputs": [],
   "source": [
    "import numpy as np\n",
    "import pandas as pd\n",
    "import matplotlib.pyplot as plt\n",
    "import seaborn as sns\n",
    "from itertools import combinations\n",
    "from scipy.stats import ttest_ind\n",
    "df = pd.read_csv('stud_math.csv')"
   ]
  },
  {
   "cell_type": "code",
   "execution_count": 67,
   "metadata": {
    "scrolled": true
   },
   "outputs": [
    {
     "data": {
      "text/html": [
       "<div>\n",
       "<style scoped>\n",
       "    .dataframe tbody tr th:only-of-type {\n",
       "        vertical-align: middle;\n",
       "    }\n",
       "\n",
       "    .dataframe tbody tr th {\n",
       "        vertical-align: top;\n",
       "    }\n",
       "\n",
       "    .dataframe thead th {\n",
       "        text-align: right;\n",
       "    }\n",
       "</style>\n",
       "<table border=\"1\" class=\"dataframe\">\n",
       "  <thead>\n",
       "    <tr style=\"text-align: right;\">\n",
       "      <th></th>\n",
       "      <th>school</th>\n",
       "      <th>sex</th>\n",
       "      <th>age</th>\n",
       "      <th>address</th>\n",
       "      <th>famsize</th>\n",
       "      <th>Pstatus</th>\n",
       "      <th>Medu</th>\n",
       "      <th>Fedu</th>\n",
       "      <th>Mjob</th>\n",
       "      <th>Fjob</th>\n",
       "      <th>...</th>\n",
       "      <th>studytime, granular</th>\n",
       "      <th>higher</th>\n",
       "      <th>internet</th>\n",
       "      <th>romantic</th>\n",
       "      <th>famrel</th>\n",
       "      <th>freetime</th>\n",
       "      <th>goout</th>\n",
       "      <th>health</th>\n",
       "      <th>absences</th>\n",
       "      <th>score</th>\n",
       "    </tr>\n",
       "  </thead>\n",
       "  <tbody>\n",
       "    <tr>\n",
       "      <th>0</th>\n",
       "      <td>GP</td>\n",
       "      <td>F</td>\n",
       "      <td>18.0</td>\n",
       "      <td>1.0</td>\n",
       "      <td>NaN</td>\n",
       "      <td>A</td>\n",
       "      <td>4.0</td>\n",
       "      <td>4.0</td>\n",
       "      <td>at_home</td>\n",
       "      <td>teacher</td>\n",
       "      <td>...</td>\n",
       "      <td>-6.0</td>\n",
       "      <td>yes</td>\n",
       "      <td>NaN</td>\n",
       "      <td>no</td>\n",
       "      <td>4.0</td>\n",
       "      <td>3.0</td>\n",
       "      <td>4.0</td>\n",
       "      <td>3.0</td>\n",
       "      <td>6.0</td>\n",
       "      <td>30.0</td>\n",
       "    </tr>\n",
       "    <tr>\n",
       "      <th>1</th>\n",
       "      <td>GP</td>\n",
       "      <td>F</td>\n",
       "      <td>17.0</td>\n",
       "      <td>1.0</td>\n",
       "      <td>GT3</td>\n",
       "      <td>A</td>\n",
       "      <td>1.0</td>\n",
       "      <td>1.0</td>\n",
       "      <td>at_home</td>\n",
       "      <td>other</td>\n",
       "      <td>...</td>\n",
       "      <td>-6.0</td>\n",
       "      <td>yes</td>\n",
       "      <td>yes</td>\n",
       "      <td>no</td>\n",
       "      <td>5.0</td>\n",
       "      <td>3.0</td>\n",
       "      <td>3.0</td>\n",
       "      <td>3.0</td>\n",
       "      <td>4.0</td>\n",
       "      <td>30.0</td>\n",
       "    </tr>\n",
       "    <tr>\n",
       "      <th>2</th>\n",
       "      <td>GP</td>\n",
       "      <td>F</td>\n",
       "      <td>15.0</td>\n",
       "      <td>1.0</td>\n",
       "      <td>LE3</td>\n",
       "      <td>T</td>\n",
       "      <td>1.0</td>\n",
       "      <td>1.0</td>\n",
       "      <td>at_home</td>\n",
       "      <td>other</td>\n",
       "      <td>...</td>\n",
       "      <td>-6.0</td>\n",
       "      <td>yes</td>\n",
       "      <td>yes</td>\n",
       "      <td>no</td>\n",
       "      <td>4.0</td>\n",
       "      <td>3.0</td>\n",
       "      <td>2.0</td>\n",
       "      <td>3.0</td>\n",
       "      <td>10.0</td>\n",
       "      <td>50.0</td>\n",
       "    </tr>\n",
       "    <tr>\n",
       "      <th>3</th>\n",
       "      <td>GP</td>\n",
       "      <td>F</td>\n",
       "      <td>15.0</td>\n",
       "      <td>1.0</td>\n",
       "      <td>GT3</td>\n",
       "      <td>T</td>\n",
       "      <td>4.0</td>\n",
       "      <td>2.0</td>\n",
       "      <td>health</td>\n",
       "      <td>other</td>\n",
       "      <td>...</td>\n",
       "      <td>-9.0</td>\n",
       "      <td>yes</td>\n",
       "      <td>yes</td>\n",
       "      <td>yes</td>\n",
       "      <td>3.0</td>\n",
       "      <td>2.0</td>\n",
       "      <td>2.0</td>\n",
       "      <td>5.0</td>\n",
       "      <td>2.0</td>\n",
       "      <td>75.0</td>\n",
       "    </tr>\n",
       "    <tr>\n",
       "      <th>4</th>\n",
       "      <td>GP</td>\n",
       "      <td>F</td>\n",
       "      <td>16.0</td>\n",
       "      <td>1.0</td>\n",
       "      <td>GT3</td>\n",
       "      <td>T</td>\n",
       "      <td>3.0</td>\n",
       "      <td>3.0</td>\n",
       "      <td>other</td>\n",
       "      <td>other</td>\n",
       "      <td>...</td>\n",
       "      <td>-6.0</td>\n",
       "      <td>yes</td>\n",
       "      <td>no</td>\n",
       "      <td>no</td>\n",
       "      <td>4.0</td>\n",
       "      <td>3.0</td>\n",
       "      <td>2.0</td>\n",
       "      <td>5.0</td>\n",
       "      <td>4.0</td>\n",
       "      <td>50.0</td>\n",
       "    </tr>\n",
       "    <tr>\n",
       "      <th>5</th>\n",
       "      <td>GP</td>\n",
       "      <td>M</td>\n",
       "      <td>16.0</td>\n",
       "      <td>1.0</td>\n",
       "      <td>LE3</td>\n",
       "      <td>T</td>\n",
       "      <td>4.0</td>\n",
       "      <td>3.0</td>\n",
       "      <td>services</td>\n",
       "      <td>other</td>\n",
       "      <td>...</td>\n",
       "      <td>-6.0</td>\n",
       "      <td>yes</td>\n",
       "      <td>yes</td>\n",
       "      <td>no</td>\n",
       "      <td>5.0</td>\n",
       "      <td>4.0</td>\n",
       "      <td>2.0</td>\n",
       "      <td>5.0</td>\n",
       "      <td>10.0</td>\n",
       "      <td>75.0</td>\n",
       "    </tr>\n",
       "    <tr>\n",
       "      <th>6</th>\n",
       "      <td>GP</td>\n",
       "      <td>M</td>\n",
       "      <td>16.0</td>\n",
       "      <td>1.0</td>\n",
       "      <td>LE3</td>\n",
       "      <td>T</td>\n",
       "      <td>2.0</td>\n",
       "      <td>2.0</td>\n",
       "      <td>other</td>\n",
       "      <td>other</td>\n",
       "      <td>...</td>\n",
       "      <td>-6.0</td>\n",
       "      <td>yes</td>\n",
       "      <td>yes</td>\n",
       "      <td>no</td>\n",
       "      <td>4.0</td>\n",
       "      <td>4.0</td>\n",
       "      <td>4.0</td>\n",
       "      <td>3.0</td>\n",
       "      <td>0.0</td>\n",
       "      <td>55.0</td>\n",
       "    </tr>\n",
       "    <tr>\n",
       "      <th>7</th>\n",
       "      <td>GP</td>\n",
       "      <td>F</td>\n",
       "      <td>17.0</td>\n",
       "      <td>1.0</td>\n",
       "      <td>GT3</td>\n",
       "      <td>A</td>\n",
       "      <td>4.0</td>\n",
       "      <td>4.0</td>\n",
       "      <td>other</td>\n",
       "      <td>teacher</td>\n",
       "      <td>...</td>\n",
       "      <td>-6.0</td>\n",
       "      <td>yes</td>\n",
       "      <td>no</td>\n",
       "      <td>no</td>\n",
       "      <td>4.0</td>\n",
       "      <td>1.0</td>\n",
       "      <td>4.0</td>\n",
       "      <td>1.0</td>\n",
       "      <td>6.0</td>\n",
       "      <td>30.0</td>\n",
       "    </tr>\n",
       "    <tr>\n",
       "      <th>8</th>\n",
       "      <td>GP</td>\n",
       "      <td>M</td>\n",
       "      <td>15.0</td>\n",
       "      <td>1.0</td>\n",
       "      <td>LE3</td>\n",
       "      <td>A</td>\n",
       "      <td>3.0</td>\n",
       "      <td>2.0</td>\n",
       "      <td>services</td>\n",
       "      <td>other</td>\n",
       "      <td>...</td>\n",
       "      <td>-6.0</td>\n",
       "      <td>yes</td>\n",
       "      <td>yes</td>\n",
       "      <td>no</td>\n",
       "      <td>4.0</td>\n",
       "      <td>2.0</td>\n",
       "      <td>2.0</td>\n",
       "      <td>1.0</td>\n",
       "      <td>0.0</td>\n",
       "      <td>95.0</td>\n",
       "    </tr>\n",
       "    <tr>\n",
       "      <th>9</th>\n",
       "      <td>GP</td>\n",
       "      <td>M</td>\n",
       "      <td>15.0</td>\n",
       "      <td>1.0</td>\n",
       "      <td>LE3</td>\n",
       "      <td>A</td>\n",
       "      <td>3.0</td>\n",
       "      <td>4.0</td>\n",
       "      <td>other</td>\n",
       "      <td>other</td>\n",
       "      <td>...</td>\n",
       "      <td>-6.0</td>\n",
       "      <td>yes</td>\n",
       "      <td>yes</td>\n",
       "      <td>no</td>\n",
       "      <td>5.0</td>\n",
       "      <td>5.0</td>\n",
       "      <td>1.0</td>\n",
       "      <td>5.0</td>\n",
       "      <td>0.0</td>\n",
       "      <td>75.0</td>\n",
       "    </tr>\n",
       "    <tr>\n",
       "      <th>10</th>\n",
       "      <td>GP</td>\n",
       "      <td>F</td>\n",
       "      <td>15.0</td>\n",
       "      <td>1.0</td>\n",
       "      <td>GT3</td>\n",
       "      <td>T</td>\n",
       "      <td>4.0</td>\n",
       "      <td>4.0</td>\n",
       "      <td>teacher</td>\n",
       "      <td>health</td>\n",
       "      <td>...</td>\n",
       "      <td>-6.0</td>\n",
       "      <td>yes</td>\n",
       "      <td>yes</td>\n",
       "      <td>no</td>\n",
       "      <td>3.0</td>\n",
       "      <td>3.0</td>\n",
       "      <td>3.0</td>\n",
       "      <td>2.0</td>\n",
       "      <td>0.0</td>\n",
       "      <td>45.0</td>\n",
       "    </tr>\n",
       "    <tr>\n",
       "      <th>11</th>\n",
       "      <td>GP</td>\n",
       "      <td>F</td>\n",
       "      <td>15.0</td>\n",
       "      <td>1.0</td>\n",
       "      <td>GT3</td>\n",
       "      <td>T</td>\n",
       "      <td>2.0</td>\n",
       "      <td>2.0</td>\n",
       "      <td>services</td>\n",
       "      <td>other</td>\n",
       "      <td>...</td>\n",
       "      <td>-9.0</td>\n",
       "      <td>yes</td>\n",
       "      <td>yes</td>\n",
       "      <td>no</td>\n",
       "      <td>5.0</td>\n",
       "      <td>2.0</td>\n",
       "      <td>2.0</td>\n",
       "      <td>4.0</td>\n",
       "      <td>4.0</td>\n",
       "      <td>60.0</td>\n",
       "    </tr>\n",
       "    <tr>\n",
       "      <th>12</th>\n",
       "      <td>GP</td>\n",
       "      <td>M</td>\n",
       "      <td>15.0</td>\n",
       "      <td>1.0</td>\n",
       "      <td>LE3</td>\n",
       "      <td>T</td>\n",
       "      <td>4.0</td>\n",
       "      <td>4.0</td>\n",
       "      <td>health</td>\n",
       "      <td>services</td>\n",
       "      <td>...</td>\n",
       "      <td>-3.0</td>\n",
       "      <td>yes</td>\n",
       "      <td>yes</td>\n",
       "      <td>no</td>\n",
       "      <td>4.0</td>\n",
       "      <td>3.0</td>\n",
       "      <td>3.0</td>\n",
       "      <td>5.0</td>\n",
       "      <td>2.0</td>\n",
       "      <td>70.0</td>\n",
       "    </tr>\n",
       "    <tr>\n",
       "      <th>13</th>\n",
       "      <td>GP</td>\n",
       "      <td>M</td>\n",
       "      <td>15.0</td>\n",
       "      <td>1.0</td>\n",
       "      <td>GT3</td>\n",
       "      <td>T</td>\n",
       "      <td>4.0</td>\n",
       "      <td>3.0</td>\n",
       "      <td>teacher</td>\n",
       "      <td>other</td>\n",
       "      <td>...</td>\n",
       "      <td>-6.0</td>\n",
       "      <td>yes</td>\n",
       "      <td>yes</td>\n",
       "      <td>no</td>\n",
       "      <td>5.0</td>\n",
       "      <td>4.0</td>\n",
       "      <td>3.0</td>\n",
       "      <td>3.0</td>\n",
       "      <td>2.0</td>\n",
       "      <td>55.0</td>\n",
       "    </tr>\n",
       "    <tr>\n",
       "      <th>14</th>\n",
       "      <td>GP</td>\n",
       "      <td>M</td>\n",
       "      <td>15.0</td>\n",
       "      <td>1.0</td>\n",
       "      <td>GT3</td>\n",
       "      <td>A</td>\n",
       "      <td>2.0</td>\n",
       "      <td>2.0</td>\n",
       "      <td>other</td>\n",
       "      <td>other</td>\n",
       "      <td>...</td>\n",
       "      <td>-9.0</td>\n",
       "      <td>yes</td>\n",
       "      <td>yes</td>\n",
       "      <td>yes</td>\n",
       "      <td>4.0</td>\n",
       "      <td>5.0</td>\n",
       "      <td>2.0</td>\n",
       "      <td>3.0</td>\n",
       "      <td>0.0</td>\n",
       "      <td>80.0</td>\n",
       "    </tr>\n",
       "    <tr>\n",
       "      <th>15</th>\n",
       "      <td>GP</td>\n",
       "      <td>F</td>\n",
       "      <td>16.0</td>\n",
       "      <td>1.0</td>\n",
       "      <td>GT3</td>\n",
       "      <td>A</td>\n",
       "      <td>4.0</td>\n",
       "      <td>4.0</td>\n",
       "      <td>health</td>\n",
       "      <td>other</td>\n",
       "      <td>...</td>\n",
       "      <td>-3.0</td>\n",
       "      <td>yes</td>\n",
       "      <td>yes</td>\n",
       "      <td>no</td>\n",
       "      <td>4.0</td>\n",
       "      <td>4.0</td>\n",
       "      <td>4.0</td>\n",
       "      <td>2.0</td>\n",
       "      <td>4.0</td>\n",
       "      <td>70.0</td>\n",
       "    </tr>\n",
       "    <tr>\n",
       "      <th>16</th>\n",
       "      <td>GP</td>\n",
       "      <td>F</td>\n",
       "      <td>16.0</td>\n",
       "      <td>1.0</td>\n",
       "      <td>GT3</td>\n",
       "      <td>T</td>\n",
       "      <td>4.0</td>\n",
       "      <td>4.0</td>\n",
       "      <td>services</td>\n",
       "      <td>services</td>\n",
       "      <td>...</td>\n",
       "      <td>-9.0</td>\n",
       "      <td>yes</td>\n",
       "      <td>yes</td>\n",
       "      <td>no</td>\n",
       "      <td>3.0</td>\n",
       "      <td>2.0</td>\n",
       "      <td>3.0</td>\n",
       "      <td>2.0</td>\n",
       "      <td>6.0</td>\n",
       "      <td>70.0</td>\n",
       "    </tr>\n",
       "    <tr>\n",
       "      <th>17</th>\n",
       "      <td>GP</td>\n",
       "      <td>F</td>\n",
       "      <td>16.0</td>\n",
       "      <td>1.0</td>\n",
       "      <td>GT3</td>\n",
       "      <td>T</td>\n",
       "      <td>3.0</td>\n",
       "      <td>3.0</td>\n",
       "      <td>other</td>\n",
       "      <td>services</td>\n",
       "      <td>...</td>\n",
       "      <td>-6.0</td>\n",
       "      <td>yes</td>\n",
       "      <td>no</td>\n",
       "      <td>no</td>\n",
       "      <td>5.0</td>\n",
       "      <td>3.0</td>\n",
       "      <td>2.0</td>\n",
       "      <td>4.0</td>\n",
       "      <td>4.0</td>\n",
       "      <td>50.0</td>\n",
       "    </tr>\n",
       "    <tr>\n",
       "      <th>18</th>\n",
       "      <td>GP</td>\n",
       "      <td>M</td>\n",
       "      <td>17.0</td>\n",
       "      <td>1.0</td>\n",
       "      <td>GT3</td>\n",
       "      <td>T</td>\n",
       "      <td>3.0</td>\n",
       "      <td>2.0</td>\n",
       "      <td>services</td>\n",
       "      <td>services</td>\n",
       "      <td>...</td>\n",
       "      <td>-3.0</td>\n",
       "      <td>yes</td>\n",
       "      <td>yes</td>\n",
       "      <td>no</td>\n",
       "      <td>5.0</td>\n",
       "      <td>5.0</td>\n",
       "      <td>5.0</td>\n",
       "      <td>5.0</td>\n",
       "      <td>16.0</td>\n",
       "      <td>25.0</td>\n",
       "    </tr>\n",
       "    <tr>\n",
       "      <th>19</th>\n",
       "      <td>GP</td>\n",
       "      <td>M</td>\n",
       "      <td>16.0</td>\n",
       "      <td>1.0</td>\n",
       "      <td>LE3</td>\n",
       "      <td>T</td>\n",
       "      <td>4.0</td>\n",
       "      <td>3.0</td>\n",
       "      <td>health</td>\n",
       "      <td>other</td>\n",
       "      <td>...</td>\n",
       "      <td>-3.0</td>\n",
       "      <td>yes</td>\n",
       "      <td>yes</td>\n",
       "      <td>no</td>\n",
       "      <td>3.0</td>\n",
       "      <td>1.0</td>\n",
       "      <td>3.0</td>\n",
       "      <td>5.0</td>\n",
       "      <td>4.0</td>\n",
       "      <td>50.0</td>\n",
       "    </tr>\n",
       "    <tr>\n",
       "      <th>20</th>\n",
       "      <td>GP</td>\n",
       "      <td>M</td>\n",
       "      <td>15.0</td>\n",
       "      <td>1.0</td>\n",
       "      <td>GT3</td>\n",
       "      <td>T</td>\n",
       "      <td>4.0</td>\n",
       "      <td>3.0</td>\n",
       "      <td>teacher</td>\n",
       "      <td>other</td>\n",
       "      <td>...</td>\n",
       "      <td>-6.0</td>\n",
       "      <td>yes</td>\n",
       "      <td>yes</td>\n",
       "      <td>no</td>\n",
       "      <td>4.0</td>\n",
       "      <td>4.0</td>\n",
       "      <td>1.0</td>\n",
       "      <td>1.0</td>\n",
       "      <td>0.0</td>\n",
       "      <td>75.0</td>\n",
       "    </tr>\n",
       "    <tr>\n",
       "      <th>21</th>\n",
       "      <td>GP</td>\n",
       "      <td>M</td>\n",
       "      <td>15.0</td>\n",
       "      <td>1.0</td>\n",
       "      <td>GT3</td>\n",
       "      <td>T</td>\n",
       "      <td>4.0</td>\n",
       "      <td>2.0</td>\n",
       "      <td>health</td>\n",
       "      <td>health</td>\n",
       "      <td>...</td>\n",
       "      <td>-3.0</td>\n",
       "      <td>yes</td>\n",
       "      <td>yes</td>\n",
       "      <td>no</td>\n",
       "      <td>5.0</td>\n",
       "      <td>4.0</td>\n",
       "      <td>2.0</td>\n",
       "      <td>5.0</td>\n",
       "      <td>0.0</td>\n",
       "      <td>75.0</td>\n",
       "    </tr>\n",
       "    <tr>\n",
       "      <th>22</th>\n",
       "      <td>GP</td>\n",
       "      <td>M</td>\n",
       "      <td>16.0</td>\n",
       "      <td>1.0</td>\n",
       "      <td>LE3</td>\n",
       "      <td>T</td>\n",
       "      <td>4.0</td>\n",
       "      <td>2.0</td>\n",
       "      <td>teacher</td>\n",
       "      <td>health</td>\n",
       "      <td>...</td>\n",
       "      <td>-6.0</td>\n",
       "      <td>yes</td>\n",
       "      <td>yes</td>\n",
       "      <td>no</td>\n",
       "      <td>4.0</td>\n",
       "      <td>5.0</td>\n",
       "      <td>1.0</td>\n",
       "      <td>5.0</td>\n",
       "      <td>2.0</td>\n",
       "      <td>80.0</td>\n",
       "    </tr>\n",
       "    <tr>\n",
       "      <th>23</th>\n",
       "      <td>GP</td>\n",
       "      <td>M</td>\n",
       "      <td>16.0</td>\n",
       "      <td>1.0</td>\n",
       "      <td>LE3</td>\n",
       "      <td>T</td>\n",
       "      <td>2.0</td>\n",
       "      <td>2.0</td>\n",
       "      <td>other</td>\n",
       "      <td>other</td>\n",
       "      <td>...</td>\n",
       "      <td>-6.0</td>\n",
       "      <td>yes</td>\n",
       "      <td>yes</td>\n",
       "      <td>no</td>\n",
       "      <td>5.0</td>\n",
       "      <td>4.0</td>\n",
       "      <td>4.0</td>\n",
       "      <td>5.0</td>\n",
       "      <td>0.0</td>\n",
       "      <td>60.0</td>\n",
       "    </tr>\n",
       "    <tr>\n",
       "      <th>24</th>\n",
       "      <td>GP</td>\n",
       "      <td>F</td>\n",
       "      <td>15.0</td>\n",
       "      <td>0.0</td>\n",
       "      <td>GT3</td>\n",
       "      <td>T</td>\n",
       "      <td>2.0</td>\n",
       "      <td>4.0</td>\n",
       "      <td>services</td>\n",
       "      <td>health</td>\n",
       "      <td>...</td>\n",
       "      <td>-9.0</td>\n",
       "      <td>yes</td>\n",
       "      <td>yes</td>\n",
       "      <td>no</td>\n",
       "      <td>4.0</td>\n",
       "      <td>3.0</td>\n",
       "      <td>2.0</td>\n",
       "      <td>5.0</td>\n",
       "      <td>4.0</td>\n",
       "      <td>40.0</td>\n",
       "    </tr>\n",
       "    <tr>\n",
       "      <th>25</th>\n",
       "      <td>GP</td>\n",
       "      <td>F</td>\n",
       "      <td>16.0</td>\n",
       "      <td>1.0</td>\n",
       "      <td>GT3</td>\n",
       "      <td>T</td>\n",
       "      <td>2.0</td>\n",
       "      <td>2.0</td>\n",
       "      <td>services</td>\n",
       "      <td>services</td>\n",
       "      <td>...</td>\n",
       "      <td>-3.0</td>\n",
       "      <td>yes</td>\n",
       "      <td>yes</td>\n",
       "      <td>no</td>\n",
       "      <td>-1.0</td>\n",
       "      <td>2.0</td>\n",
       "      <td>2.0</td>\n",
       "      <td>5.0</td>\n",
       "      <td>14.0</td>\n",
       "      <td>40.0</td>\n",
       "    </tr>\n",
       "    <tr>\n",
       "      <th>26</th>\n",
       "      <td>GP</td>\n",
       "      <td>M</td>\n",
       "      <td>15.0</td>\n",
       "      <td>1.0</td>\n",
       "      <td>GT3</td>\n",
       "      <td>T</td>\n",
       "      <td>2.0</td>\n",
       "      <td>2.0</td>\n",
       "      <td>other</td>\n",
       "      <td>services</td>\n",
       "      <td>...</td>\n",
       "      <td>-3.0</td>\n",
       "      <td>yes</td>\n",
       "      <td>yes</td>\n",
       "      <td>no</td>\n",
       "      <td>4.0</td>\n",
       "      <td>2.0</td>\n",
       "      <td>2.0</td>\n",
       "      <td>5.0</td>\n",
       "      <td>2.0</td>\n",
       "      <td>55.0</td>\n",
       "    </tr>\n",
       "    <tr>\n",
       "      <th>27</th>\n",
       "      <td>GP</td>\n",
       "      <td>M</td>\n",
       "      <td>15.0</td>\n",
       "      <td>1.0</td>\n",
       "      <td>GT3</td>\n",
       "      <td>T</td>\n",
       "      <td>4.0</td>\n",
       "      <td>2.0</td>\n",
       "      <td>health</td>\n",
       "      <td>services</td>\n",
       "      <td>...</td>\n",
       "      <td>-3.0</td>\n",
       "      <td>yes</td>\n",
       "      <td>yes</td>\n",
       "      <td>no</td>\n",
       "      <td>2.0</td>\n",
       "      <td>2.0</td>\n",
       "      <td>4.0</td>\n",
       "      <td>1.0</td>\n",
       "      <td>4.0</td>\n",
       "      <td>75.0</td>\n",
       "    </tr>\n",
       "    <tr>\n",
       "      <th>28</th>\n",
       "      <td>GP</td>\n",
       "      <td>M</td>\n",
       "      <td>16.0</td>\n",
       "      <td>1.0</td>\n",
       "      <td>LE3</td>\n",
       "      <td>T</td>\n",
       "      <td>3.0</td>\n",
       "      <td>4.0</td>\n",
       "      <td>services</td>\n",
       "      <td>other</td>\n",
       "      <td>...</td>\n",
       "      <td>-6.0</td>\n",
       "      <td>yes</td>\n",
       "      <td>yes</td>\n",
       "      <td>no</td>\n",
       "      <td>5.0</td>\n",
       "      <td>3.0</td>\n",
       "      <td>3.0</td>\n",
       "      <td>5.0</td>\n",
       "      <td>4.0</td>\n",
       "      <td>55.0</td>\n",
       "    </tr>\n",
       "    <tr>\n",
       "      <th>29</th>\n",
       "      <td>GP</td>\n",
       "      <td>M</td>\n",
       "      <td>16.0</td>\n",
       "      <td>1.0</td>\n",
       "      <td>GT3</td>\n",
       "      <td>T</td>\n",
       "      <td>4.0</td>\n",
       "      <td>4.0</td>\n",
       "      <td>services</td>\n",
       "      <td>teacher</td>\n",
       "      <td>...</td>\n",
       "      <td>-6.0</td>\n",
       "      <td>yes</td>\n",
       "      <td>yes</td>\n",
       "      <td>yes</td>\n",
       "      <td>4.0</td>\n",
       "      <td>4.0</td>\n",
       "      <td>5.0</td>\n",
       "      <td>5.0</td>\n",
       "      <td>16.0</td>\n",
       "      <td>55.0</td>\n",
       "    </tr>\n",
       "  </tbody>\n",
       "</table>\n",
       "<p>30 rows × 30 columns</p>\n",
       "</div>"
      ],
      "text/plain": [
       "   school sex   age  address famsize Pstatus  Medu  Fedu      Mjob      Fjob  \\\n",
       "0      GP   F  18.0      1.0     NaN       A   4.0   4.0   at_home   teacher   \n",
       "1      GP   F  17.0      1.0     GT3       A   1.0   1.0   at_home     other   \n",
       "2      GP   F  15.0      1.0     LE3       T   1.0   1.0   at_home     other   \n",
       "3      GP   F  15.0      1.0     GT3       T   4.0   2.0    health     other   \n",
       "4      GP   F  16.0      1.0     GT3       T   3.0   3.0     other     other   \n",
       "5      GP   M  16.0      1.0     LE3       T   4.0   3.0  services     other   \n",
       "6      GP   M  16.0      1.0     LE3       T   2.0   2.0     other     other   \n",
       "7      GP   F  17.0      1.0     GT3       A   4.0   4.0     other   teacher   \n",
       "8      GP   M  15.0      1.0     LE3       A   3.0   2.0  services     other   \n",
       "9      GP   M  15.0      1.0     LE3       A   3.0   4.0     other     other   \n",
       "10     GP   F  15.0      1.0     GT3       T   4.0   4.0   teacher    health   \n",
       "11     GP   F  15.0      1.0     GT3       T   2.0   2.0  services     other   \n",
       "12     GP   M  15.0      1.0     LE3       T   4.0   4.0    health  services   \n",
       "13     GP   M  15.0      1.0     GT3       T   4.0   3.0   teacher     other   \n",
       "14     GP   M  15.0      1.0     GT3       A   2.0   2.0     other     other   \n",
       "15     GP   F  16.0      1.0     GT3       A   4.0   4.0    health     other   \n",
       "16     GP   F  16.0      1.0     GT3       T   4.0   4.0  services  services   \n",
       "17     GP   F  16.0      1.0     GT3       T   3.0   3.0     other  services   \n",
       "18     GP   M  17.0      1.0     GT3       T   3.0   2.0  services  services   \n",
       "19     GP   M  16.0      1.0     LE3       T   4.0   3.0    health     other   \n",
       "20     GP   M  15.0      1.0     GT3       T   4.0   3.0   teacher     other   \n",
       "21     GP   M  15.0      1.0     GT3       T   4.0   2.0    health    health   \n",
       "22     GP   M  16.0      1.0     LE3       T   4.0   2.0   teacher    health   \n",
       "23     GP   M  16.0      1.0     LE3       T   2.0   2.0     other     other   \n",
       "24     GP   F  15.0      0.0     GT3       T   2.0   4.0  services    health   \n",
       "25     GP   F  16.0      1.0     GT3       T   2.0   2.0  services  services   \n",
       "26     GP   M  15.0      1.0     GT3       T   2.0   2.0     other  services   \n",
       "27     GP   M  15.0      1.0     GT3       T   4.0   2.0    health  services   \n",
       "28     GP   M  16.0      1.0     LE3       T   3.0   4.0  services     other   \n",
       "29     GP   M  16.0      1.0     GT3       T   4.0   4.0  services   teacher   \n",
       "\n",
       "    ... studytime, granular higher  internet  romantic  famrel freetime goout  \\\n",
       "0   ...                -6.0    yes       NaN        no     4.0      3.0   4.0   \n",
       "1   ...                -6.0    yes       yes        no     5.0      3.0   3.0   \n",
       "2   ...                -6.0    yes       yes        no     4.0      3.0   2.0   \n",
       "3   ...                -9.0    yes       yes       yes     3.0      2.0   2.0   \n",
       "4   ...                -6.0    yes        no        no     4.0      3.0   2.0   \n",
       "5   ...                -6.0    yes       yes        no     5.0      4.0   2.0   \n",
       "6   ...                -6.0    yes       yes        no     4.0      4.0   4.0   \n",
       "7   ...                -6.0    yes        no        no     4.0      1.0   4.0   \n",
       "8   ...                -6.0    yes       yes        no     4.0      2.0   2.0   \n",
       "9   ...                -6.0    yes       yes        no     5.0      5.0   1.0   \n",
       "10  ...                -6.0    yes       yes        no     3.0      3.0   3.0   \n",
       "11  ...                -9.0    yes       yes        no     5.0      2.0   2.0   \n",
       "12  ...                -3.0    yes       yes        no     4.0      3.0   3.0   \n",
       "13  ...                -6.0    yes       yes        no     5.0      4.0   3.0   \n",
       "14  ...                -9.0    yes       yes       yes     4.0      5.0   2.0   \n",
       "15  ...                -3.0    yes       yes        no     4.0      4.0   4.0   \n",
       "16  ...                -9.0    yes       yes        no     3.0      2.0   3.0   \n",
       "17  ...                -6.0    yes        no        no     5.0      3.0   2.0   \n",
       "18  ...                -3.0    yes       yes        no     5.0      5.0   5.0   \n",
       "19  ...                -3.0    yes       yes        no     3.0      1.0   3.0   \n",
       "20  ...                -6.0    yes       yes        no     4.0      4.0   1.0   \n",
       "21  ...                -3.0    yes       yes        no     5.0      4.0   2.0   \n",
       "22  ...                -6.0    yes       yes        no     4.0      5.0   1.0   \n",
       "23  ...                -6.0    yes       yes        no     5.0      4.0   4.0   \n",
       "24  ...                -9.0    yes       yes        no     4.0      3.0   2.0   \n",
       "25  ...                -3.0    yes       yes        no    -1.0      2.0   2.0   \n",
       "26  ...                -3.0    yes       yes        no     4.0      2.0   2.0   \n",
       "27  ...                -3.0    yes       yes        no     2.0      2.0   4.0   \n",
       "28  ...                -6.0    yes       yes        no     5.0      3.0   3.0   \n",
       "29  ...                -6.0    yes       yes       yes     4.0      4.0   5.0   \n",
       "\n",
       "   health absences score  \n",
       "0     3.0      6.0  30.0  \n",
       "1     3.0      4.0  30.0  \n",
       "2     3.0     10.0  50.0  \n",
       "3     5.0      2.0  75.0  \n",
       "4     5.0      4.0  50.0  \n",
       "5     5.0     10.0  75.0  \n",
       "6     3.0      0.0  55.0  \n",
       "7     1.0      6.0  30.0  \n",
       "8     1.0      0.0  95.0  \n",
       "9     5.0      0.0  75.0  \n",
       "10    2.0      0.0  45.0  \n",
       "11    4.0      4.0  60.0  \n",
       "12    5.0      2.0  70.0  \n",
       "13    3.0      2.0  55.0  \n",
       "14    3.0      0.0  80.0  \n",
       "15    2.0      4.0  70.0  \n",
       "16    2.0      6.0  70.0  \n",
       "17    4.0      4.0  50.0  \n",
       "18    5.0     16.0  25.0  \n",
       "19    5.0      4.0  50.0  \n",
       "20    1.0      0.0  75.0  \n",
       "21    5.0      0.0  75.0  \n",
       "22    5.0      2.0  80.0  \n",
       "23    5.0      0.0  60.0  \n",
       "24    5.0      4.0  40.0  \n",
       "25    5.0     14.0  40.0  \n",
       "26    5.0      2.0  55.0  \n",
       "27    1.0      4.0  75.0  \n",
       "28    5.0      4.0  55.0  \n",
       "29    5.0     16.0  55.0  \n",
       "\n",
       "[30 rows x 30 columns]"
      ]
     },
     "metadata": {},
     "output_type": "display_data"
    },
    {
     "name": "stdout",
     "output_type": "stream",
     "text": [
      "<class 'pandas.core.frame.DataFrame'>\n",
      "RangeIndex: 395 entries, 0 to 394\n",
      "Data columns (total 30 columns):\n",
      " #   Column               Non-Null Count  Dtype  \n",
      "---  ------               --------------  -----  \n",
      " 0   school               395 non-null    object \n",
      " 1   sex                  395 non-null    object \n",
      " 2   age                  395 non-null    float64\n",
      " 3   address              395 non-null    float64\n",
      " 4   famsize              394 non-null    object \n",
      " 5   Pstatus              395 non-null    object \n",
      " 6   Medu                 395 non-null    float64\n",
      " 7   Fedu                 395 non-null    float64\n",
      " 8   Mjob                 395 non-null    object \n",
      " 9   Fjob                 395 non-null    object \n",
      " 10  reason               395 non-null    object \n",
      " 11  guardian             395 non-null    object \n",
      " 12  traveltime           395 non-null    float64\n",
      " 13  studytime            395 non-null    float64\n",
      " 14  failures             395 non-null    float64\n",
      " 15  schoolsup            395 non-null    object \n",
      " 16  famsup               395 non-null    object \n",
      " 17  paid                 395 non-null    object \n",
      " 18  activities           395 non-null    object \n",
      " 19  nursery              395 non-null    object \n",
      " 20  studytime, granular  395 non-null    float64\n",
      " 21  higher               395 non-null    object \n",
      " 22  internet             394 non-null    object \n",
      " 23  romantic             395 non-null    object \n",
      " 24  famrel               395 non-null    float64\n",
      " 25  freetime             395 non-null    float64\n",
      " 26  goout                395 non-null    float64\n",
      " 27  health               395 non-null    float64\n",
      " 28  absences             395 non-null    float64\n",
      " 29  score                395 non-null    float64\n",
      "dtypes: float64(14), object(16)\n",
      "memory usage: 92.7+ KB\n"
     ]
    },
    {
     "data": {
      "text/plain": [
       "school                 0\n",
       "sex                    0\n",
       "age                    0\n",
       "address                0\n",
       "famsize                1\n",
       "Pstatus                0\n",
       "Medu                   0\n",
       "Fedu                   0\n",
       "Mjob                   0\n",
       "Fjob                   0\n",
       "reason                 0\n",
       "guardian               0\n",
       "traveltime             0\n",
       "studytime              0\n",
       "failures               0\n",
       "schoolsup              0\n",
       "famsup                 0\n",
       "paid                   0\n",
       "activities             0\n",
       "nursery                0\n",
       "studytime, granular    0\n",
       "higher                 0\n",
       "internet               1\n",
       "romantic               0\n",
       "famrel                 0\n",
       "freetime               0\n",
       "goout                  0\n",
       "health                 0\n",
       "absences               0\n",
       "score                  0\n",
       "dtype: int64"
      ]
     },
     "execution_count": 67,
     "metadata": {},
     "output_type": "execute_result"
    }
   ],
   "source": [
    "df.describe()\n",
    "display(df.head(30))\n",
    "df.info()\n",
    "df.isna().sum()"
   ]
  },
  {
   "cell_type": "code",
   "execution_count": 66,
   "metadata": {
    "scrolled": false
   },
   "outputs": [
    {
     "name": "stdout",
     "output_type": "stream",
     "text": [
      "Есть выбросы -  22.0 247\n",
      "Есть выбросы -  40.0 11\n",
      "Есть выбросы -  0.0 76\n",
      "Есть выбросы -  0.0 171\n",
      "Есть выбросы -  25.0 40\n",
      "Есть выбросы -  54.0 74\n",
      "Есть выбросы -  26.0 103\n",
      "Есть выбросы -  56.0 183\n",
      "Есть выбросы -  24.0 198\n",
      "Есть выбросы -  28.0 205\n",
      "Есть выбросы -  22.0 216\n",
      "Есть выбросы -  385.0 222\n",
      "Есть выбросы -  21.0 260\n",
      "Есть выбросы -  75.0 276\n",
      "Есть выбросы -  22.0 277\n",
      "Есть выбросы -  30.0 280\n",
      "Есть выбросы -  38.0 307\n",
      "Есть выбросы -  22.0 313\n",
      "Есть выбросы -  40.0 315\n",
      "Есть выбросы -  23.0 320\n",
      "Есть выбросы -  212.0 390\n",
      "Есть выбросы -  4.0 61\n",
      "Есть выбросы -  4.0 108\n",
      "Есть выбросы -  4.0 149\n",
      "Есть выбросы -  4.0 164\n",
      "Есть выбросы -  4.0 228\n",
      "Есть выбросы -  4.0 327\n",
      "Есть выбросы -  4.0 375\n"
     ]
    },
    {
     "name": "stderr",
     "output_type": "stream",
     "text": [
      "<ipython-input-66-66a04dbc7ec2>:27: SettingWithCopyWarning: \n",
      "A value is trying to be set on a copy of a slice from a DataFrame\n",
      "\n",
      "See the caveats in the documentation: https://pandas.pydata.org/pandas-docs/stable/user_guide/indexing.html#returning-a-view-versus-a-copy\n",
      "  col[x] = col.median()\n"
     ]
    }
   ],
   "source": [
    "# Заменяем значенииие NaN на медиану для числовых значений и на последнее True значение для строчных значений таблицы\n",
    "df.age = df.age.astype(np.float64)\n",
    "def chislov_znach(x):\n",
    "    for i in x:\n",
    "        # Заменяем на медиану все пропуски в столбциах с числовыми признаками\n",
    "        if type(x[i][2]) == np.float64 or type(x[i][2]) == np.int64:\n",
    "            x[i] = x[i].fillna(x[i].median())\n",
    "        # Заменяем на последнее True значение пропуски в столбцах с строчными признаками\n",
    "        else:\n",
    "            x[i] = x[i].fillna(value=None, method=\"ffill\")\n",
    "\n",
    "\n",
    "chislov_znach(df)\n",
    "df.isna().sum()\n",
    "\n",
    "# Замена выбросов в стобцах age, Fedu, absences, traveltime на медиану\n",
    "def drop_vibros(col):\n",
    "    iqr = col.quantile(q=0.75)-col.quantile(q=0.25)\n",
    "    q1 = col.quantile(q=0.25)\n",
    "    q3 = col.quantile(q=0.75)\n",
    "    iqr, q1, q3\n",
    "    for i, x in zip(col, range(0, len(col))):\n",
    "        if i < (q1-(1.5*iqr)) or i > (q3+(1.5*iqr)):\n",
    "            print('Есть выбросы - ', i, x)\n",
    "            col[x] = col.median()\n",
    "    return\n",
    "\n",
    "\n",
    "drop_vibros(df.age)\n",
    "drop_vibros(df.Fedu)\n",
    "drop_vibros(df.absences)\n",
    "drop_vibros(df.traveltime)\n",
    "\n",
    "# Выводим в отдельный датафрей данные учеников с оценками выше Q3\n",
    "top_stud = df[df['score'] > df.score.quantile(q=0.75)].sort_values(by=[\n",
    "    'score'], ascending=False)\n",
    "\n",
    "# Строим боксплот для сравнения показателей с оценками\n",
    "def get_boxplot(column):\n",
    "    fig, ax = plt.subplots(figsize=(14, 4))\n",
    "    sns.boxplot(x=column, y='score',\n",
    "                data=df.loc[df.loc[:, column].isin(\n",
    "                    df.loc[:, column].value_counts().index[:10])],\n",
    "                ax=ax)\n",
    "    plt.xticks(rotation=45)\n",
    "    ax.set_title('Boxplot for ' + column)\n",
    "    plt.show()\n",
    "\n",
    "\n",
    "# Приобразуем столбец address в числовой формат для просчета точной коррелции\n",
    "df['address'] = df['address'].apply(\n",
    "    lambda x: np.float64(1) if x == 'U' else np.float64(0))\n",
    "\n",
    "# Заменили выбросы по возрасту набдюдения в 20 и 21 год из-за их малого количества\n",
    "df.age = df.age.replace([20.0, 21.0], method='ffill')\n",
    "\n",
    "# Заменили выбросы в увроне образования мамы из-за их малого количества\n",
    "df.Medu = df.Medu.replace(0.0, method='ffill')\n",
    "\n",
    "# Отбор выявленных стобцов с помощью Теста Стьюдента\n",
    "def get_stat_dif(column):\n",
    "    cols = df.loc[:, column].value_counts().index[:10]\n",
    "    combinations_all = list(combinations(cols, 2))\n",
    "    for comb in combinations_all:\n",
    "        if ttest_ind(df.loc[df.loc[:, column] == comb[0], 'score'],\n",
    "                     df.loc[df.loc[:, column] == comb[1], 'score']).pvalue \\\n",
    "                <= 0.05/len(combinations_all):  # Учли поправку Бонферони\n",
    "            print('Найдены статистически значимые различия для колонки', column)\n",
    "            break"
   ]
  },
  {
   "cell_type": "markdown",
   "metadata": {},
   "source": [
    "Изучение столбца address: Средняя оценка учеников проживающих загородом ниже, чем у тех кто проживает в городе. Берем на заметку."
   ]
  },
  {
   "cell_type": "code",
   "execution_count": 209,
   "metadata": {},
   "outputs": [
    {
     "data": {
      "image/png": "[encoded data removed]",
      "text/plain": [
       "<Figure size 432x288 with 1 Axes>"
      ]
     },
     "metadata": {
      "needs_background": "light"
     },
     "output_type": "display_data"
    },
    {
     "data": {
      "image/png": "[encoded data removed]",
      "text/plain": [
       "<Figure size 1008x288 with 1 Axes>"
      ]
     },
     "metadata": {
      "needs_background": "light"
     },
     "output_type": "display_data"
    },
    {
     "data": {
      "text/plain": [
       "count    395.00000\n",
       "mean       0.76962\n",
       "std        0.42161\n",
       "min        0.00000\n",
       "25%        1.00000\n",
       "50%        1.00000\n",
       "75%        1.00000\n",
       "max        1.00000\n",
       "Name: address, dtype: float64"
      ]
     },
     "execution_count": 209,
     "metadata": {},
     "output_type": "execute_result"
    }
   ],
   "source": [
    "# тип адреса ученика ('1' - городской, '0' - за городом)\n",
    "print(df.address.describe())\n",
    "df.address.hist()\n",
    "get_boxplot('address')"
   ]
  },
  {
   "cell_type": "code",
   "execution_count": null,
   "metadata": {},
   "outputs": [],
   "source": [
    "# Данные которые не влияют на оценки\n",
    "get_boxplot('school')\n",
    "get_boxplot('sex')\n",
    "get_boxplot('reason')\n",
    "get_boxplot('guardian')\n",
    "get_boxplot('traveltime')\n",
    "get_boxplot('nursery')\n",
    "get_boxplot('internet')\n",
    "get_boxplot('absences')"
   ]
  },
  {
   "cell_type": "markdown",
   "metadata": {},
   "source": [
    "Изучение столбца age:Ученики в 18 лет имеют самые низкие оценки по математике. Заменили для наглядности недосточные данные о возрасте 20 и 21 года. Берем на заметку"
   ]
  },
  {
   "cell_type": "code",
   "execution_count": 27,
   "metadata": {},
   "outputs": [
    {
     "data": {
      "image/png": "[encoded data removed]",
      "text/plain": [
       "<Figure size 1008x288 with 1 Axes>"
      ]
     },
     "metadata": {
      "needs_background": "light"
     },
     "output_type": "display_data"
    },
    {
     "data": {
      "text/plain": [
       "16.0    104\n",
       "17.0    100\n",
       "18.0     85\n",
       "15.0     82\n",
       "19.0     24\n",
       "Name: age, dtype: int64"
      ]
     },
     "execution_count": 27,
     "metadata": {},
     "output_type": "execute_result"
    }
   ],
   "source": [
    "# возраст ученика (от 15 до 22)\n",
    "get_boxplot('age')\n",
    "df['age'].value_counts()"
   ]
  },
  {
   "cell_type": "markdown",
   "metadata": {},
   "source": [
    "Изучение столбца Fedu и Medu: Чем менее образованные родители, тем ниже оценки по математике у их детей."
   ]
  },
  {
   "cell_type": "code",
   "execution_count": 37,
   "metadata": {},
   "outputs": [
    {
     "data": {
      "image/png": "[encoded data removed]",
      "text/plain": [
       "<Figure size 1008x288 with 1 Axes>"
      ]
     },
     "metadata": {
      "needs_background": "light"
     },
     "output_type": "display_data"
    },
    {
     "name": "stdout",
     "output_type": "stream",
     "text": [
      "2.0    133\n",
      "3.0     96\n",
      "4.0     88\n",
      "1.0     78\n",
      "Name: Fedu, dtype: int64\n"
     ]
    },
    {
     "data": {
      "image/png": "[encoded data removed]",
      "text/plain": [
       "<Figure size 1008x288 with 1 Axes>"
      ]
     },
     "metadata": {
      "needs_background": "light"
     },
     "output_type": "display_data"
    },
    {
     "name": "stdout",
     "output_type": "stream",
     "text": [
      "4.0    131\n",
      "3.0    103\n",
      "2.0    102\n",
      "1.0     59\n",
      "Name: Medu, dtype: int64\n"
     ]
    }
   ],
   "source": [
    "# образование матери и отца(0 - нет, 1 - 4 класса, 2 - 5-9 классы, 3 - среднее специальное или 11 классов, 4 - высшее)\n",
    "\n",
    "get_boxplot('Fedu')\n",
    "print(df.Fedu.value_counts())\n",
    "get_boxplot('Medu')\n",
    "print(df.Medu.value_counts())"
   ]
  },
  {
   "cell_type": "markdown",
   "metadata": {},
   "source": [
    "Изучение столбца Mjob и Fjob: Медиана оценок ниже у детей, чья мать не работает. "
   ]
  },
  {
   "cell_type": "code",
   "execution_count": 42,
   "metadata": {},
   "outputs": [
    {
     "data": {
      "image/png": "[encoded data removed]",
      "text/plain": [
       "<Figure size 1008x288 with 1 Axes>"
      ]
     },
     "metadata": {
      "needs_background": "light"
     },
     "output_type": "display_data"
    },
    {
     "name": "stdout",
     "output_type": "stream",
     "text": [
      "count       395\n",
      "unique        5\n",
      "top       other\n",
      "freq        138\n",
      "Name: Mjob, dtype: object\n",
      "other       138\n",
      "services    105\n",
      "at_home      63\n",
      "teacher      57\n",
      "health       32\n",
      "Name: Mjob, dtype: int64\n"
     ]
    },
    {
     "data": {
      "image/png": "[encoded data removed]",
      "text/plain": [
       "<Figure size 1008x288 with 1 Axes>"
      ]
     },
     "metadata": {
      "needs_background": "light"
     },
     "output_type": "display_data"
    },
    {
     "name": "stdout",
     "output_type": "stream",
     "text": [
      "count       395\n",
      "unique        5\n",
      "top       other\n",
      "freq        215\n",
      "Name: Fjob, dtype: object\n",
      "other       215\n",
      "services    115\n",
      "teacher      30\n",
      "at_home      19\n",
      "health       16\n",
      "Name: Fjob, dtype: int64\n"
     ]
    },
    {
     "data": {
      "text/plain": [
       "<matplotlib.axes._subplots.AxesSubplot at 0x1fe5d2838b0>"
      ]
     },
     "execution_count": 42,
     "metadata": {},
     "output_type": "execute_result"
    },
    {
     "data": {
      "image/png": "[encoded data removed]",
      "text/plain": [
       "<Figure size 432x288 with 1 Axes>"
      ]
     },
     "metadata": {
      "needs_background": "light"
     },
     "output_type": "display_data"
    }
   ],
   "source": [
    "# работа родителей ('teacher' - учитель, 'health' - сфера здравоохранения, 'services' - гос служба, 'at_home' - не работает, 'other' - другое)\n",
    "get_boxplot('Mjob')\n",
    "print(df.Mjob.describe())\n",
    "print(df.Mjob.value_counts())\n",
    "get_boxplot('Fjob')\n",
    "print(df.Fjob.describe())\n",
    "print(df.Fjob.value_counts())\n",
    "df.Fjob.hist()"
   ]
  },
  {
   "cell_type": "markdown",
   "metadata": {},
   "source": [
    "Изучение столбца studytime: Чем меньше обучения помимо школы, тем ниже оценки."
   ]
  },
  {
   "cell_type": "code",
   "execution_count": 216,
   "metadata": {
    "scrolled": true
   },
   "outputs": [
    {
     "data": {
      "image/png": "[encoded data removed]",
      "text/plain": [
       "<Figure size 1008x288 with 1 Axes>"
      ]
     },
     "metadata": {
      "needs_background": "light"
     },
     "output_type": "display_data"
    },
    {
     "name": "stdout",
     "output_type": "stream",
     "text": [
      "count    395.000000\n",
      "mean       2.037975\n",
      "std        0.834580\n",
      "min        1.000000\n",
      "25%        1.000000\n",
      "50%        2.000000\n",
      "75%        2.000000\n",
      "max        4.000000\n",
      "Name: studytime, dtype: float64 2.0    201\n",
      "1.0    103\n",
      "3.0     64\n",
      "4.0     27\n",
      "Name: studytime, dtype: int64\n"
     ]
    },
    {
     "data": {
      "text/plain": [
       "<matplotlib.axes._subplots.AxesSubplot at 0x1c82d4a7550>"
      ]
     },
     "execution_count": 216,
     "metadata": {},
     "output_type": "execute_result"
    },
    {
     "data": {
      "image/png": "[encoded data removed]",
      "text/plain": [
       "<Figure size 432x288 with 1 Axes>"
      ]
     },
     "metadata": {
      "needs_background": "light"
     },
     "output_type": "display_data"
    }
   ],
   "source": [
    "# время на учёбу помимо школы в неделю (1 - <2 часов, 2 - 2-5 часов, 3 - 5-10 часов, 4 - >10 часов)\n",
    "get_boxplot('studytime')\n",
    "print(df.studytime.describe(), df.studytime.value_counts())\n",
    "df.studytime.hist()"
   ]
  },
  {
   "cell_type": "markdown",
   "metadata": {},
   "source": [
    "Изучение столбца failures: Внеучебные неудачи прямо влияют на оценки учеников, чем больше, тем хуже оценки"
   ]
  },
  {
   "cell_type": "code",
   "execution_count": 231,
   "metadata": {
    "scrolled": false
   },
   "outputs": [
    {
     "data": {
      "image/png": "[encoded data removed]",
      "text/plain": [
       "<Figure size 1008x288 with 1 Axes>"
      ]
     },
     "metadata": {},
     "output_type": "display_data"
    },
    {
     "name": "stdout",
     "output_type": "stream",
     "text": [
      "count    395.000000\n",
      "mean       0.318987\n",
      "std        0.726244\n",
      "min        0.000000\n",
      "25%        0.000000\n",
      "50%        0.000000\n",
      "75%        0.000000\n",
      "max        3.000000\n",
      "Name: failures, dtype: float64\n"
     ]
    },
    {
     "data": {
      "text/plain": [
       "<matplotlib.axes._subplots.AxesSubplot at 0x1c827969460>"
      ]
     },
     "execution_count": 231,
     "metadata": {},
     "output_type": "execute_result"
    },
    {
     "data": {
      "image/png": "[encoded data removed]",
      "text/plain": [
       "<Figure size 432x288 with 1 Axes>"
      ]
     },
     "metadata": {},
     "output_type": "display_data"
    }
   ],
   "source": [
    "# количество внеучебных неудач (n, если 1<=n<=3, иначе 0)\n",
    "get_boxplot('failures')\n",
    "print(df.failures.describe())\n",
    "df.pivot_table(values='score', index=['failures']).plot(kind='bar')"
   ]
  },
  {
   "cell_type": "markdown",
   "metadata": {},
   "source": [
    "Изучение столбца schoolsup:Те, кто получают дополнительную образовательную поддержку имеют более низкие оценки в среднем. Это вероятно связано с тем, что за ней обращаются отстающие ученики"
   ]
  },
  {
   "cell_type": "code",
   "execution_count": 233,
   "metadata": {
    "scrolled": true
   },
   "outputs": [
    {
     "data": {
      "image/png": "[encoded data removed]",
      "text/plain": [
       "<Figure size 1008x288 with 1 Axes>"
      ]
     },
     "metadata": {},
     "output_type": "display_data"
    },
    {
     "name": "stdout",
     "output_type": "stream",
     "text": [
      "no     343\n",
      "yes     52\n",
      "Name: schoolsup, dtype: int64\n"
     ]
    }
   ],
   "source": [
    "# дополнительная образовательная поддержка (yes или no)\n",
    "\n",
    "get_boxplot('schoolsup')\n",
    "print(df['schoolsup'].value_counts())"
   ]
  },
  {
   "cell_type": "markdown",
   "metadata": {},
   "source": [
    "Наблюдение столбца famsup: Те, кто получают дополнительную образовательную поддержку в семье имеют такие же оценки, как и те, кто не имеет"
   ]
  },
  {
   "cell_type": "code",
   "execution_count": 237,
   "metadata": {
    "scrolled": true
   },
   "outputs": [
    {
     "data": {
      "image/png": "[encoded data removed]",
      "text/plain": [
       "<Figure size 1008x288 with 1 Axes>"
      ]
     },
     "metadata": {},
     "output_type": "display_data"
    },
    {
     "data": {
      "text/plain": [
       "yes    243\n",
       "no     152\n",
       "Name: famsup, dtype: int64"
      ]
     },
     "execution_count": 237,
     "metadata": {},
     "output_type": "execute_result"
    }
   ],
   "source": [
    "# семейная образовательная поддержка (yes или no)\n",
    "get_boxplot('famsup')\n",
    "df['famsup'].value_counts()"
   ]
  },
  {
   "cell_type": "markdown",
   "metadata": {},
   "source": [
    "Наблюдение столбца paid: Те, кто получает доп платные уроки по математике в медиане имеют похожие оценки, что и те, кто не получает"
   ]
  },
  {
   "cell_type": "code",
   "execution_count": 152,
   "metadata": {
    "scrolled": true
   },
   "outputs": [
    {
     "data": {
      "image/png": "[encoded data removed]",
      "text/plain": [
       "<Figure size 1008x288 with 1 Axes>"
      ]
     },
     "metadata": {
      "needs_background": "light"
     },
     "output_type": "display_data"
    }
   ],
   "source": [
    "# дополнительные платные занятия по математике (yes или no)\n",
    "get_boxplot('paid')"
   ]
  },
  {
   "cell_type": "markdown",
   "metadata": {},
   "source": [
    "Наблюдение столбца activities: Те, кто получает доп внеучебные занятия в медиане имеют похожие оценки, что и те, кто не получает"
   ]
  },
  {
   "cell_type": "code",
   "execution_count": 238,
   "metadata": {
    "scrolled": true
   },
   "outputs": [
    {
     "data": {
      "image/png": "[encoded data removed]",
      "text/plain": [
       "<Figure size 1008x288 with 1 Axes>"
      ]
     },
     "metadata": {},
     "output_type": "display_data"
    },
    {
     "data": {
      "text/plain": [
       "count     395\n",
       "unique      2\n",
       "top       yes\n",
       "freq      203\n",
       "Name: activities, dtype: object"
      ]
     },
     "execution_count": 238,
     "metadata": {},
     "output_type": "execute_result"
    }
   ],
   "source": [
    "# дополнительные внеучебные занятия (yes или no)\n",
    "get_boxplot('activities')\n",
    "df.activities.describe()"
   ]
  },
  {
   "cell_type": "markdown",
   "metadata": {},
   "source": [
    "Наблюдение столбца higher: Те, кто не хочет получить высш. образование имеют более низкую оцнеку по математике по медиане"
   ]
  },
  {
   "cell_type": "code",
   "execution_count": 239,
   "metadata": {
    "scrolled": true
   },
   "outputs": [
    {
     "data": {
      "image/png": "[encoded data removed]",
      "text/plain": [
       "<Figure size 1008x288 with 1 Axes>"
      ]
     },
     "metadata": {},
     "output_type": "display_data"
    },
    {
     "data": {
      "text/plain": [
       "<matplotlib.axes._subplots.AxesSubplot at 0x1c82788c6d0>"
      ]
     },
     "execution_count": 239,
     "metadata": {},
     "output_type": "execute_result"
    },
    {
     "data": {
      "image/png": "[encoded data removed]",
      "text/plain": [
       "<Figure size 432x288 with 1 Axes>"
      ]
     },
     "metadata": {},
     "output_type": "display_data"
    }
   ],
   "source": [
    "# хочет получить высшее образование (yes или no)\n",
    "get_boxplot('higher')\n",
    "df.pivot_table(values='score', index=['higher']).plot(kind='bar')"
   ]
  },
  {
   "cell_type": "markdown",
   "metadata": {},
   "source": [
    "Наблюдение столбца freetime: Те, у кого нет свободного времени получают более низкие оценки. Но наблюдений таких учеников недостаточно, для точного утверждения."
   ]
  },
  {
   "cell_type": "code",
   "execution_count": 244,
   "metadata": {
    "scrolled": true
   },
   "outputs": [
    {
     "data": {
      "image/png": "[encoded data removed]",
      "text/plain": [
       "<Figure size 1008x288 with 1 Axes>"
      ]
     },
     "metadata": {},
     "output_type": "display_data"
    },
    {
     "data": {
      "text/plain": [
       "3.0    164\n",
       "4.0    112\n",
       "2.0     63\n",
       "5.0     38\n",
       "1.0     18\n",
       "Name: freetime, dtype: int64"
      ]
     },
     "execution_count": 244,
     "metadata": {},
     "output_type": "execute_result"
    },
    {
     "data": {
      "image/png": "[encoded data removed]",
      "text/plain": [
       "<Figure size 432x288 with 1 Axes>"
      ]
     },
     "metadata": {},
     "output_type": "display_data"
    }
   ],
   "source": [
    "# свободное время после школы (от 1 - очень мало до 5 - очень мого)\n",
    "get_boxplot('freetime')\n",
    "df.pivot_table(values='score', index=['freetime']).plot(kind='bar')\n",
    "df['freetime'].value_counts()"
   ]
  },
  {
   "cell_type": "markdown",
   "metadata": {},
   "source": [
    "Наблюдение столбца goout: Те, кто немного проводит времени с друзьями, оценки немного выше, чем у тех, кто очень мало и очень много проводит врмени с ними. То есть необщительность не сильно может влиять на успеваемость."
   ]
  },
  {
   "cell_type": "code",
   "execution_count": 246,
   "metadata": {
    "scrolled": true
   },
   "outputs": [
    {
     "data": {
      "image/png": "[encoded data removed]",
      "text/plain": [
       "<Figure size 1008x288 with 1 Axes>"
      ]
     },
     "metadata": {},
     "output_type": "display_data"
    },
    {
     "name": "stdout",
     "output_type": "stream",
     "text": [
      "count    395.000000\n",
      "mean       3.103797\n",
      "std        1.104610\n",
      "min        1.000000\n",
      "25%        2.000000\n",
      "50%        3.000000\n",
      "75%        4.000000\n",
      "max        5.000000\n",
      "Name: goout, dtype: float64\n"
     ]
    },
    {
     "data": {
      "text/plain": [
       "<matplotlib.axes._subplots.AxesSubplot at 0x1c82a5e6640>"
      ]
     },
     "execution_count": 246,
     "metadata": {},
     "output_type": "execute_result"
    },
    {
     "data": {
      "image/png": "[encoded data removed]",
      "text/plain": [
       "<Figure size 432x288 with 1 Axes>"
      ]
     },
     "metadata": {},
     "output_type": "display_data"
    }
   ],
   "source": [
    "# проведение времени с друзьями (от 1 - очень мало до 5 - очень много)\n",
    "get_boxplot('goout')\n",
    "print(df.goout.describe())\n",
    "df.pivot_table(values='score', index=['goout']).plot(kind='bar')"
   ]
  },
  {
   "cell_type": "markdown",
   "metadata": {},
   "source": [
    "Наблюдение столбца health: Те, кто здоровее, у того выше оценки по математике. Странно, но те, кто не болеют в данный момент получают более низкую оценку на экзамене. "
   ]
  },
  {
   "cell_type": "code",
   "execution_count": 45,
   "metadata": {
    "scrolled": false
   },
   "outputs": [
    {
     "data": {
      "image/png": "[encoded data removed]",
      "text/plain": [
       "<Figure size 1008x288 with 1 Axes>"
      ]
     },
     "metadata": {
      "needs_background": "light"
     },
     "output_type": "display_data"
    },
    {
     "data": {
      "text/plain": [
       "5.0    138\n",
       "3.0     89\n",
       "4.0     78\n",
       "1.0     47\n",
       "2.0     43\n",
       "Name: health, dtype: int64"
      ]
     },
     "execution_count": 45,
     "metadata": {},
     "output_type": "execute_result"
    },
    {
     "data": {
      "image/png": "[encoded data removed]",
      "text/plain": [
       "<Figure size 432x288 with 1 Axes>"
      ]
     },
     "metadata": {
      "needs_background": "light"
     },
     "output_type": "display_data"
    }
   ],
   "source": [
    "# текущее состояние здоровья (от 1 - очень плохо до 5 - очень хорошо)\n",
    "get_boxplot('health')\n",
    "df.pivot_table(values='score', index=['health']).plot(kind='bar')\n",
    "df['health'].value_counts()"
   ]
  },
  {
   "cell_type": "markdown",
   "metadata": {},
   "source": [
    "Изучение корреляции числовых данных"
   ]
  },
  {
   "cell_type": "code",
   "execution_count": 247,
   "metadata": {},
   "outputs": [
    {
     "data": {
      "text/html": [
       "<div>\n",
       "<style scoped>\n",
       "    .dataframe tbody tr th:only-of-type {\n",
       "        vertical-align: middle;\n",
       "    }\n",
       "\n",
       "    .dataframe tbody tr th {\n",
       "        vertical-align: top;\n",
       "    }\n",
       "\n",
       "    .dataframe thead th {\n",
       "        text-align: right;\n",
       "    }\n",
       "</style>\n",
       "<table border=\"1\" class=\"dataframe\">\n",
       "  <thead>\n",
       "    <tr style=\"text-align: right;\">\n",
       "      <th></th>\n",
       "      <th>age</th>\n",
       "      <th>address</th>\n",
       "      <th>Medu</th>\n",
       "      <th>Fedu</th>\n",
       "      <th>traveltime</th>\n",
       "      <th>studytime</th>\n",
       "      <th>failures</th>\n",
       "      <th>studytime, granular</th>\n",
       "      <th>famrel</th>\n",
       "      <th>freetime</th>\n",
       "      <th>goout</th>\n",
       "      <th>health</th>\n",
       "      <th>absences</th>\n",
       "      <th>score</th>\n",
       "    </tr>\n",
       "  </thead>\n",
       "  <tbody>\n",
       "    <tr>\n",
       "      <th>age</th>\n",
       "      <td>1.000000</td>\n",
       "      <td>-0.177530</td>\n",
       "      <td>-0.167336</td>\n",
       "      <td>-0.149035</td>\n",
       "      <td>0.115995</td>\n",
       "      <td>-0.003054</td>\n",
       "      <td>0.195702</td>\n",
       "      <td>0.003054</td>\n",
       "      <td>0.056179</td>\n",
       "      <td>0.019008</td>\n",
       "      <td>0.119646</td>\n",
       "      <td>-0.046443</td>\n",
       "      <td>0.119927</td>\n",
       "      <td>-0.149072</td>\n",
       "    </tr>\n",
       "    <tr>\n",
       "      <th>address</th>\n",
       "      <td>-0.177530</td>\n",
       "      <td>1.000000</td>\n",
       "      <td>0.139874</td>\n",
       "      <td>0.084601</td>\n",
       "      <td>-0.234474</td>\n",
       "      <td>-0.039992</td>\n",
       "      <td>-0.124107</td>\n",
       "      <td>0.039992</td>\n",
       "      <td>-0.015460</td>\n",
       "      <td>0.021508</td>\n",
       "      <td>0.040577</td>\n",
       "      <td>-0.043907</td>\n",
       "      <td>-0.035358</td>\n",
       "      <td>0.099152</td>\n",
       "    </tr>\n",
       "    <tr>\n",
       "      <th>Medu</th>\n",
       "      <td>-0.167336</td>\n",
       "      <td>0.139874</td>\n",
       "      <td>1.000000</td>\n",
       "      <td>0.603748</td>\n",
       "      <td>-0.112271</td>\n",
       "      <td>0.077050</td>\n",
       "      <td>-0.245110</td>\n",
       "      <td>-0.077050</td>\n",
       "      <td>-0.009605</td>\n",
       "      <td>0.026210</td>\n",
       "      <td>0.063361</td>\n",
       "      <td>-0.050991</td>\n",
       "      <td>0.062010</td>\n",
       "      <td>0.205568</td>\n",
       "    </tr>\n",
       "    <tr>\n",
       "      <th>Fedu</th>\n",
       "      <td>-0.149035</td>\n",
       "      <td>0.084601</td>\n",
       "      <td>0.603748</td>\n",
       "      <td>1.000000</td>\n",
       "      <td>-0.065506</td>\n",
       "      <td>0.013475</td>\n",
       "      <td>-0.267011</td>\n",
       "      <td>-0.013475</td>\n",
       "      <td>-0.031741</td>\n",
       "      <td>-0.021563</td>\n",
       "      <td>0.039256</td>\n",
       "      <td>-0.006329</td>\n",
       "      <td>-0.026672</td>\n",
       "      <td>0.128390</td>\n",
       "    </tr>\n",
       "    <tr>\n",
       "      <th>traveltime</th>\n",
       "      <td>0.115995</td>\n",
       "      <td>-0.234474</td>\n",
       "      <td>-0.112271</td>\n",
       "      <td>-0.065506</td>\n",
       "      <td>1.000000</td>\n",
       "      <td>-0.105795</td>\n",
       "      <td>-0.009923</td>\n",
       "      <td>0.105795</td>\n",
       "      <td>-0.008973</td>\n",
       "      <td>-0.060021</td>\n",
       "      <td>-0.025698</td>\n",
       "      <td>-0.063066</td>\n",
       "      <td>-0.053012</td>\n",
       "      <td>-0.054936</td>\n",
       "    </tr>\n",
       "    <tr>\n",
       "      <th>studytime</th>\n",
       "      <td>-0.003054</td>\n",
       "      <td>-0.039992</td>\n",
       "      <td>0.077050</td>\n",
       "      <td>0.013475</td>\n",
       "      <td>-0.105795</td>\n",
       "      <td>1.000000</td>\n",
       "      <td>-0.166598</td>\n",
       "      <td>-1.000000</td>\n",
       "      <td>0.043739</td>\n",
       "      <td>-0.119014</td>\n",
       "      <td>-0.051090</td>\n",
       "      <td>-0.073674</td>\n",
       "      <td>-0.074658</td>\n",
       "      <td>0.114371</td>\n",
       "    </tr>\n",
       "    <tr>\n",
       "      <th>failures</th>\n",
       "      <td>0.195702</td>\n",
       "      <td>-0.124107</td>\n",
       "      <td>-0.245110</td>\n",
       "      <td>-0.267011</td>\n",
       "      <td>-0.009923</td>\n",
       "      <td>-0.166598</td>\n",
       "      <td>1.000000</td>\n",
       "      <td>0.166598</td>\n",
       "      <td>-0.029921</td>\n",
       "      <td>0.094826</td>\n",
       "      <td>0.113649</td>\n",
       "      <td>0.075849</td>\n",
       "      <td>0.079299</td>\n",
       "      <td>-0.326532</td>\n",
       "    </tr>\n",
       "    <tr>\n",
       "      <th>studytime, granular</th>\n",
       "      <td>0.003054</td>\n",
       "      <td>0.039992</td>\n",
       "      <td>-0.077050</td>\n",
       "      <td>-0.013475</td>\n",
       "      <td>0.105795</td>\n",
       "      <td>-1.000000</td>\n",
       "      <td>0.166598</td>\n",
       "      <td>1.000000</td>\n",
       "      <td>-0.043739</td>\n",
       "      <td>0.119014</td>\n",
       "      <td>0.051090</td>\n",
       "      <td>0.073674</td>\n",
       "      <td>0.074658</td>\n",
       "      <td>-0.114371</td>\n",
       "    </tr>\n",
       "    <tr>\n",
       "      <th>famrel</th>\n",
       "      <td>0.056179</td>\n",
       "      <td>-0.015460</td>\n",
       "      <td>-0.009605</td>\n",
       "      <td>-0.031741</td>\n",
       "      <td>-0.008973</td>\n",
       "      <td>0.043739</td>\n",
       "      <td>-0.029921</td>\n",
       "      <td>-0.043739</td>\n",
       "      <td>1.000000</td>\n",
       "      <td>0.168225</td>\n",
       "      <td>0.078006</td>\n",
       "      <td>0.077776</td>\n",
       "      <td>-0.090212</td>\n",
       "      <td>0.055223</td>\n",
       "    </tr>\n",
       "    <tr>\n",
       "      <th>freetime</th>\n",
       "      <td>0.019008</td>\n",
       "      <td>0.021508</td>\n",
       "      <td>0.026210</td>\n",
       "      <td>-0.021563</td>\n",
       "      <td>-0.060021</td>\n",
       "      <td>-0.119014</td>\n",
       "      <td>0.094826</td>\n",
       "      <td>0.119014</td>\n",
       "      <td>0.168225</td>\n",
       "      <td>1.000000</td>\n",
       "      <td>0.292305</td>\n",
       "      <td>0.060557</td>\n",
       "      <td>0.086704</td>\n",
       "      <td>0.018200</td>\n",
       "    </tr>\n",
       "    <tr>\n",
       "      <th>goout</th>\n",
       "      <td>0.119646</td>\n",
       "      <td>0.040577</td>\n",
       "      <td>0.063361</td>\n",
       "      <td>0.039256</td>\n",
       "      <td>-0.025698</td>\n",
       "      <td>-0.051090</td>\n",
       "      <td>0.113649</td>\n",
       "      <td>0.051090</td>\n",
       "      <td>0.078006</td>\n",
       "      <td>0.292305</td>\n",
       "      <td>1.000000</td>\n",
       "      <td>-0.014274</td>\n",
       "      <td>0.103337</td>\n",
       "      <td>-0.125708</td>\n",
       "    </tr>\n",
       "    <tr>\n",
       "      <th>health</th>\n",
       "      <td>-0.046443</td>\n",
       "      <td>-0.043907</td>\n",
       "      <td>-0.050991</td>\n",
       "      <td>-0.006329</td>\n",
       "      <td>-0.063066</td>\n",
       "      <td>-0.073674</td>\n",
       "      <td>0.075849</td>\n",
       "      <td>0.073674</td>\n",
       "      <td>0.077776</td>\n",
       "      <td>0.060557</td>\n",
       "      <td>-0.014274</td>\n",
       "      <td>1.000000</td>\n",
       "      <td>-0.013697</td>\n",
       "      <td>-0.072776</td>\n",
       "    </tr>\n",
       "    <tr>\n",
       "      <th>absences</th>\n",
       "      <td>0.119927</td>\n",
       "      <td>-0.035358</td>\n",
       "      <td>0.062010</td>\n",
       "      <td>-0.026672</td>\n",
       "      <td>-0.053012</td>\n",
       "      <td>-0.074658</td>\n",
       "      <td>0.079299</td>\n",
       "      <td>0.074658</td>\n",
       "      <td>-0.090212</td>\n",
       "      <td>0.086704</td>\n",
       "      <td>0.103337</td>\n",
       "      <td>-0.013697</td>\n",
       "      <td>1.000000</td>\n",
       "      <td>0.076673</td>\n",
       "    </tr>\n",
       "    <tr>\n",
       "      <th>score</th>\n",
       "      <td>-0.149072</td>\n",
       "      <td>0.099152</td>\n",
       "      <td>0.205568</td>\n",
       "      <td>0.128390</td>\n",
       "      <td>-0.054936</td>\n",
       "      <td>0.114371</td>\n",
       "      <td>-0.326532</td>\n",
       "      <td>-0.114371</td>\n",
       "      <td>0.055223</td>\n",
       "      <td>0.018200</td>\n",
       "      <td>-0.125708</td>\n",
       "      <td>-0.072776</td>\n",
       "      <td>0.076673</td>\n",
       "      <td>1.000000</td>\n",
       "    </tr>\n",
       "  </tbody>\n",
       "</table>\n",
       "</div>"
      ],
      "text/plain": [
       "                          age   address      Medu      Fedu  traveltime  \\\n",
       "age                  1.000000 -0.177530 -0.167336 -0.149035    0.115995   \n",
       "address             -0.177530  1.000000  0.139874  0.084601   -0.234474   \n",
       "Medu                -0.167336  0.139874  1.000000  0.603748   -0.112271   \n",
       "Fedu                -0.149035  0.084601  0.603748  1.000000   -0.065506   \n",
       "traveltime           0.115995 -0.234474 -0.112271 -0.065506    1.000000   \n",
       "studytime           -0.003054 -0.039992  0.077050  0.013475   -0.105795   \n",
       "failures             0.195702 -0.124107 -0.245110 -0.267011   -0.009923   \n",
       "studytime, granular  0.003054  0.039992 -0.077050 -0.013475    0.105795   \n",
       "famrel               0.056179 -0.015460 -0.009605 -0.031741   -0.008973   \n",
       "freetime             0.019008  0.021508  0.026210 -0.021563   -0.060021   \n",
       "goout                0.119646  0.040577  0.063361  0.039256   -0.025698   \n",
       "health              -0.046443 -0.043907 -0.050991 -0.006329   -0.063066   \n",
       "absences             0.119927 -0.035358  0.062010 -0.026672   -0.053012   \n",
       "score               -0.149072  0.099152  0.205568  0.128390   -0.054936   \n",
       "\n",
       "                     studytime  failures  studytime, granular    famrel  \\\n",
       "age                  -0.003054  0.195702             0.003054  0.056179   \n",
       "address              -0.039992 -0.124107             0.039992 -0.015460   \n",
       "Medu                  0.077050 -0.245110            -0.077050 -0.009605   \n",
       "Fedu                  0.013475 -0.267011            -0.013475 -0.031741   \n",
       "traveltime           -0.105795 -0.009923             0.105795 -0.008973   \n",
       "studytime             1.000000 -0.166598            -1.000000  0.043739   \n",
       "failures             -0.166598  1.000000             0.166598 -0.029921   \n",
       "studytime, granular  -1.000000  0.166598             1.000000 -0.043739   \n",
       "famrel                0.043739 -0.029921            -0.043739  1.000000   \n",
       "freetime             -0.119014  0.094826             0.119014  0.168225   \n",
       "goout                -0.051090  0.113649             0.051090  0.078006   \n",
       "health               -0.073674  0.075849             0.073674  0.077776   \n",
       "absences             -0.074658  0.079299             0.074658 -0.090212   \n",
       "score                 0.114371 -0.326532            -0.114371  0.055223   \n",
       "\n",
       "                     freetime     goout    health  absences     score  \n",
       "age                  0.019008  0.119646 -0.046443  0.119927 -0.149072  \n",
       "address              0.021508  0.040577 -0.043907 -0.035358  0.099152  \n",
       "Medu                 0.026210  0.063361 -0.050991  0.062010  0.205568  \n",
       "Fedu                -0.021563  0.039256 -0.006329 -0.026672  0.128390  \n",
       "traveltime          -0.060021 -0.025698 -0.063066 -0.053012 -0.054936  \n",
       "studytime           -0.119014 -0.051090 -0.073674 -0.074658  0.114371  \n",
       "failures             0.094826  0.113649  0.075849  0.079299 -0.326532  \n",
       "studytime, granular  0.119014  0.051090  0.073674  0.074658 -0.114371  \n",
       "famrel               0.168225  0.078006  0.077776 -0.090212  0.055223  \n",
       "freetime             1.000000  0.292305  0.060557  0.086704  0.018200  \n",
       "goout                0.292305  1.000000 -0.014274  0.103337 -0.125708  \n",
       "health               0.060557 -0.014274  1.000000 -0.013697 -0.072776  \n",
       "absences             0.086704  0.103337 -0.013697  1.000000  0.076673  \n",
       "score                0.018200 -0.125708 -0.072776  0.076673  1.000000  "
      ]
     },
     "execution_count": 247,
     "metadata": {},
     "output_type": "execute_result"
    }
   ],
   "source": [
    "df.corr()"
   ]
  },
  {
   "cell_type": "markdown",
   "metadata": {},
   "source": [
    "Отбираем с помощью теста Стьюдента столбцы с номинативными показателями влияющие на оценку на экзамене по математике"
   ]
  },
  {
   "cell_type": "code",
   "execution_count": 68,
   "metadata": {},
   "outputs": [
    {
     "name": "stdout",
     "output_type": "stream",
     "text": [
      "Найдены статистически значимые различия для колонки address\n",
      "Найдены статистически значимые различия для колонки Mjob\n",
      "Найдены статистически значимые различия для колонки failures\n",
      "Найдены статистически значимые различия для колонки higher\n"
     ]
    }
   ],
   "source": [
    "for col in ['school', 'sex', 'address', 'Mjob', 'Fjob', 'studytime', 'failures', 'schoolsup', 'famsup', 'paid', 'higher', 'freetime', 'goout']:\n",
    "    get_stat_dif(col)"
   ]
  },
  {
   "cell_type": "markdown",
   "metadata": {},
   "source": [
    "В итоге мы получили 5 столбцов с наблюденями, которые могут спрогнозировать проблемы на экзамене по математике."
   ]
  },
  {
   "cell_type": "code",
   "execution_count": 69,
   "metadata": {},
   "outputs": [
    {
     "data": {
      "text/html": [
       "<div>\n",
       "<style scoped>\n",
       "    .dataframe tbody tr th:only-of-type {\n",
       "        vertical-align: middle;\n",
       "    }\n",
       "\n",
       "    .dataframe tbody tr th {\n",
       "        vertical-align: top;\n",
       "    }\n",
       "\n",
       "    .dataframe thead th {\n",
       "        text-align: right;\n",
       "    }\n",
       "</style>\n",
       "<table border=\"1\" class=\"dataframe\">\n",
       "  <thead>\n",
       "    <tr style=\"text-align: right;\">\n",
       "      <th></th>\n",
       "      <th>address</th>\n",
       "      <th>age</th>\n",
       "      <th>Mjob</th>\n",
       "      <th>failures</th>\n",
       "      <th>higher</th>\n",
       "    </tr>\n",
       "  </thead>\n",
       "  <tbody>\n",
       "    <tr>\n",
       "      <th>0</th>\n",
       "      <td>1.0</td>\n",
       "      <td>18.0</td>\n",
       "      <td>at_home</td>\n",
       "      <td>0.0</td>\n",
       "      <td>yes</td>\n",
       "    </tr>\n",
       "    <tr>\n",
       "      <th>1</th>\n",
       "      <td>1.0</td>\n",
       "      <td>17.0</td>\n",
       "      <td>at_home</td>\n",
       "      <td>0.0</td>\n",
       "      <td>yes</td>\n",
       "    </tr>\n",
       "    <tr>\n",
       "      <th>2</th>\n",
       "      <td>1.0</td>\n",
       "      <td>15.0</td>\n",
       "      <td>at_home</td>\n",
       "      <td>3.0</td>\n",
       "      <td>yes</td>\n",
       "    </tr>\n",
       "    <tr>\n",
       "      <th>3</th>\n",
       "      <td>1.0</td>\n",
       "      <td>15.0</td>\n",
       "      <td>health</td>\n",
       "      <td>0.0</td>\n",
       "      <td>yes</td>\n",
       "    </tr>\n",
       "    <tr>\n",
       "      <th>4</th>\n",
       "      <td>1.0</td>\n",
       "      <td>16.0</td>\n",
       "      <td>other</td>\n",
       "      <td>0.0</td>\n",
       "      <td>yes</td>\n",
       "    </tr>\n",
       "    <tr>\n",
       "      <th>...</th>\n",
       "      <td>...</td>\n",
       "      <td>...</td>\n",
       "      <td>...</td>\n",
       "      <td>...</td>\n",
       "      <td>...</td>\n",
       "    </tr>\n",
       "    <tr>\n",
       "      <th>390</th>\n",
       "      <td>1.0</td>\n",
       "      <td>18.0</td>\n",
       "      <td>services</td>\n",
       "      <td>2.0</td>\n",
       "      <td>yes</td>\n",
       "    </tr>\n",
       "    <tr>\n",
       "      <th>391</th>\n",
       "      <td>1.0</td>\n",
       "      <td>17.0</td>\n",
       "      <td>services</td>\n",
       "      <td>0.0</td>\n",
       "      <td>yes</td>\n",
       "    </tr>\n",
       "    <tr>\n",
       "      <th>392</th>\n",
       "      <td>0.0</td>\n",
       "      <td>17.0</td>\n",
       "      <td>other</td>\n",
       "      <td>3.0</td>\n",
       "      <td>yes</td>\n",
       "    </tr>\n",
       "    <tr>\n",
       "      <th>393</th>\n",
       "      <td>0.0</td>\n",
       "      <td>18.0</td>\n",
       "      <td>services</td>\n",
       "      <td>0.0</td>\n",
       "      <td>yes</td>\n",
       "    </tr>\n",
       "    <tr>\n",
       "      <th>394</th>\n",
       "      <td>1.0</td>\n",
       "      <td>19.0</td>\n",
       "      <td>other</td>\n",
       "      <td>0.0</td>\n",
       "      <td>yes</td>\n",
       "    </tr>\n",
       "  </tbody>\n",
       "</table>\n",
       "<p>395 rows × 5 columns</p>\n",
       "</div>"
      ],
      "text/plain": [
       "     address   age      Mjob  failures higher\n",
       "0        1.0  18.0   at_home       0.0    yes\n",
       "1        1.0  17.0   at_home       0.0    yes\n",
       "2        1.0  15.0   at_home       3.0    yes\n",
       "3        1.0  15.0    health       0.0    yes\n",
       "4        1.0  16.0     other       0.0    yes\n",
       "..       ...   ...       ...       ...    ...\n",
       "390      1.0  18.0  services       2.0    yes\n",
       "391      1.0  17.0  services       0.0    yes\n",
       "392      0.0  17.0     other       3.0    yes\n",
       "393      0.0  18.0  services       0.0    yes\n",
       "394      1.0  19.0     other       0.0    yes\n",
       "\n",
       "[395 rows x 5 columns]"
      ]
     },
     "execution_count": 69,
     "metadata": {},
     "output_type": "execute_result"
    }
   ],
   "source": [
    "df_final = df[['address', 'age', 'Mjob', 'failures', 'higher']]\n",
    "df_final"
   ]
  },
  {
   "cell_type": "markdown",
   "metadata": {},
   "source": [
    "# Выводы\n",
    "\n",
    "Итак, в результате EDA для анализа условий жизни учащихся в возрасте от 15 до 22 лет влияющих на их успеваемость по математике для построения модели выявляющей стедентов в группе риска получены следующие выводы:\n",
    "\n",
    "- Данные имели досточно мало пропусков.\n",
    "- Выбросы найдены в нескольких стоюбцах, в том числе в столбце age, Fedu, absences, traveltime.\n",
    "- Изучение столбца age:Ученики в 18 лет имеют самые низкие оценки по математике. Берем на заметку\n",
    "- Изучение столбца Mjob: Медиана оценок ниже у детей, чья мать не работает.\n",
    "- Изучение столбца failures: Внеучебные неудачи прямо влияют на оценки учеников, чем больше, тем хуже оценки\n",
    "- Наблюдение столбца higher: Те, кто не хочет получить высш. образование имеют более низкую оценку по медиане\n",
    "- Самые важные параметры, которые предлагается использовать в дальнейшем для построения модели, это address, age, Mjob, failures, higher."
   ]
  },
  {
   "cell_type": "code",
   "execution_count": null,
   "metadata": {},
   "outputs": [],
   "source": []
  }
 ],
 "metadata": {
  "kernelspec": {
   "display_name": "Python 3",
   "language": "python",
   "name": "python3"
  },
  "language_info": {
   "codemirror_mode": {
    "name": "ipython",
    "version": 3
   },
   "file_extension": ".py",
   "mimetype": "text/x-python",
   "name": "python",
   "nbconvert_exporter": "python",
   "pygments_lexer": "ipython3",
   "version": "3.8.3"
  }
 },
 "nbformat": 4,
 "nbformat_minor": 4
}
